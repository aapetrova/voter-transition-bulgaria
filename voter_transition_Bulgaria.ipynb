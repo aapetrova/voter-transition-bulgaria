{
 "cells": [
  {
   "cell_type": "code",
   "execution_count": 1,
   "id": "d26befdf-4781-436b-8d5d-b2dba2e5f0c6",
   "metadata": {},
   "outputs": [],
   "source": [
    "import pandas as pd\n",
    "import plotly.graph_objects as go\n",
    "\n",
    "# display Plotly objects properly in Jupyter Lab\n",
    "import plotly.io as pio\n",
    "pio.renderers.default = \"iframe\""
   ]
  },
  {
   "cell_type": "code",
   "execution_count": 24,
   "id": "5f084597-dd5f-46b4-a8b3-5b08a5172379",
   "metadata": {},
   "outputs": [],
   "source": [
    "def plot_sankey(filename, year1, year2):\n",
    "    votes = pd.read_csv(filename)\n",
    "    if \"Others\" not in votes.columns:\n",
    "        votes[\"Others\"] = 100 - votes.iloc[:,2:].sum(axis = 1)\n",
    "    # calculate absolute percentages for each voter transition group\n",
    "    # we do this because Plotly does not allow us to specify individual bar heights\n",
    "    for i in range(2, len(votes.columns)):\n",
    "        votes.iloc[:,i] *= votes[\"Total\"] / 100.0\n",
    "        \n",
    "    stacked = votes.drop([\"Total\"], axis=1).set_index(\"Previous vote\").stack().reset_index()\n",
    "    stacked.columns = [f\"vote_{year1}\", f\"vote_{year2}\", \"percentage\"]\n",
    "    stacked[f\"vote_{year1}_factorized\"] = pd.factorize(stacked[f\"vote_{year1}\"])[0]\n",
    "    stacked[f\"vote_{year2}_factorized\"] = pd.factorize(stacked[f\"vote_{year2}\"])[0] + len(votes)\n",
    "    \n",
    "    fig = go.Figure(data=[go.Sankey(\n",
    "        node = dict(\n",
    "          label = list(stacked[f\"vote_{year1}\"].unique()) + list(stacked[f\"vote_{year2}\"].unique()),\n",
    "            pad = 0\n",
    "        ),\n",
    "        link = dict(\n",
    "          source = stacked[f\"vote_{year1}_factorized\"],\n",
    "          target = stacked[f\"vote_{year2}_factorized\"],\n",
    "          value = stacked[\"percentage\"]\n",
    "      ))])\n",
    "\n",
    "    fig.update_layout(title_text=f\"Voter transition between the Bulgarian parliametary elections of {year1} and {year2}\", font_size=10)\n",
    "    fig.show()"
   ]
  },
  {
   "cell_type": "code",
   "execution_count": 3,
   "id": "72c80968-38e9-4f07-8e78-9b7b8a932a57",
   "metadata": {},
   "outputs": [
    {
     "data": {
      "text/html": [
       "<iframe\n",
       "    scrolling=\"no\"\n",
       "    width=\"100%\"\n",
       "    height=\"545px\"\n",
       "    src=\"iframe_figures/figure_3.html\"\n",
       "    frameborder=\"0\"\n",
       "    allowfullscreen\n",
       "></iframe>\n"
      ]
     },
     "metadata": {},
     "output_type": "display_data"
    }
   ],
   "source": [
    "plot_sankey(\"2013-2014.csv\", 2013, 2014)"
   ]
  },
  {
   "cell_type": "code",
   "execution_count": 4,
   "id": "baa893da-4e50-498b-bf96-a68efd50cdbd",
   "metadata": {},
   "outputs": [
    {
     "data": {
      "text/html": [
       "<iframe\n",
       "    scrolling=\"no\"\n",
       "    width=\"100%\"\n",
       "    height=\"545px\"\n",
       "    src=\"iframe_figures/figure_4.html\"\n",
       "    frameborder=\"0\"\n",
       "    allowfullscreen\n",
       "></iframe>\n"
      ]
     },
     "metadata": {},
     "output_type": "display_data"
    }
   ],
   "source": [
    "plot_sankey(\"2014-2017.csv\", 2014, 2017)"
   ]
  },
  {
   "cell_type": "code",
   "execution_count": 5,
   "id": "bfb88e94-759f-4350-a1c7-52a9b3bdd909",
   "metadata": {},
   "outputs": [
    {
     "data": {
      "text/html": [
       "<iframe\n",
       "    scrolling=\"no\"\n",
       "    width=\"100%\"\n",
       "    height=\"545px\"\n",
       "    src=\"iframe_figures/figure_5.html\"\n",
       "    frameborder=\"0\"\n",
       "    allowfullscreen\n",
       "></iframe>\n"
      ]
     },
     "metadata": {},
     "output_type": "display_data"
    }
   ],
   "source": [
    "plot_sankey(\"2017-2021.csv\", 2017, 2021)"
   ]
  },
  {
   "cell_type": "code",
   "execution_count": 25,
   "id": "322276b0-01b6-4633-ac48-04e311274b75",
   "metadata": {},
   "outputs": [
    {
     "data": {
      "text/html": [
       "<iframe\n",
       "    scrolling=\"no\"\n",
       "    width=\"100%\"\n",
       "    height=\"545px\"\n",
       "    src=\"iframe_figures/figure_25.html\"\n",
       "    frameborder=\"0\"\n",
       "    allowfullscreen\n",
       "></iframe>\n"
      ]
     },
     "metadata": {},
     "output_type": "display_data"
    }
   ],
   "source": [
    "# make sure to distinguish the two election periods\n",
    "plot_sankey(\"2021-2021.csv\", \"2021-04\", \"2021-07\")"
   ]
  },
  {
   "cell_type": "code",
   "execution_count": null,
   "id": "74cb82cf-8798-447c-bfcd-2188059b5bcc",
   "metadata": {},
   "outputs": [],
   "source": []
  }
 ],
 "metadata": {
  "kernelspec": {
   "display_name": "Python 3",
   "language": "python",
   "name": "python3"
  },
  "language_info": {
   "codemirror_mode": {
    "name": "ipython",
    "version": 3
   },
   "file_extension": ".py",
   "mimetype": "text/x-python",
   "name": "python",
   "nbconvert_exporter": "python",
   "pygments_lexer": "ipython3",
   "version": "3.7.9"
  }
 },
 "nbformat": 4,
 "nbformat_minor": 5
}
